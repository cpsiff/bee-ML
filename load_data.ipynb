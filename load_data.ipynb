{
 "metadata": {
  "language_info": {
   "codemirror_mode": {
    "name": "ipython",
    "version": 3
   },
   "file_extension": ".py",
   "mimetype": "text/x-python",
   "name": "python",
   "nbconvert_exporter": "python",
   "pygments_lexer": "ipython3",
   "version": "3.8.5-final"
  },
  "orig_nbformat": 2,
  "kernelspec": {
   "name": "python3",
   "display_name": "Python 3.8.5 64-bit",
   "metadata": {
    "interpreter": {
     "hash": "31f2aee4e71d21fbe5cf8b01ff0e069b9275f58929596ceb00d14d90e3e16cd6"
    }
   }
  }
 },
 "nbformat": 4,
 "nbformat_minor": 2,
 "cells": [
  {
   "source": [
    "import pandas as pd\n",
    "from google.cloud import bigquery"
   ],
   "cell_type": "code",
   "metadata": {},
   "execution_count": 1,
   "outputs": []
  },
  {
   "source": [
    "Import AQI data from [Historical Air Quality Dataset](https://www.kaggle.com/epa/epa-historical-air-quality) <br>\n",
    "See [here](https://cloud.google.com/bigquery/docs/quickstarts/quickstart-client-libraries#client-libraries-install-python) for how to get started and set up a credentials file to use bigquery to query the data"
   ],
   "cell_type": "markdown",
   "metadata": {}
  },
  {
   "cell_type": "code",
   "execution_count": 2,
   "metadata": {},
   "outputs": [],
   "source": [
    "# Set the path of your credentials file (alternatively you can do this in your system path but I haven't had success)\n",
    "os.environ['GOOGLE_APPLICATION_CREDENTIALS'] = '/home/carter/My Project-a95df9756ff9.json'\n",
    "\n",
    "client = bigquery.Client()\n",
    "\n",
    "query_job = client.query(\n",
    "    \"\"\"\n",
    "    SELECT\n",
    "        state_name,\n",
    "        county_name,\n",
    "        year,\n",
    "        arithmetic_mean as measurement\n",
    "    FROM\n",
    "      `bigquery-public-data.epa_historical_air_quality.air_quality_annual_summary`\n",
    "    WHERE\n",
    "      parameter_name = \"PM2.5 - Local Conditions\"\n",
    "      AND sample_duration = \"24 HOUR\"\n",
    "      AND units_of_measure = \"Micrograms/cubic meter (LC)\"\n",
    "      AND poc = 1\n",
    "      AND pollutant_standard = \"PM25 Annual 2006\"\n",
    "    ORDER BY year\n",
    "    \"\"\"\n",
    ")\n",
    "\n",
    "aqi_data = query_job.result().to_dataframe() # .to_dataframe() converts to pandas dataframe"
   ]
  },
  {
   "source": [
    "Read in [Honey Production Dataset](https://www.kaggle.com/jessicali9530/honey-production) from honeyproduction.csv"
   ],
   "cell_type": "markdown",
   "metadata": {}
  },
  {
   "cell_type": "code",
   "execution_count": 3,
   "metadata": {},
   "outputs": [],
   "source": [
    "honey_data = pd.read_csv('honeyproduction.csv')"
   ]
  },
  {
   "source": [
    "Use sklearn to run a simple regression model. A bias (intercept) term is included by default.<br>\n",
    "X is a 2D numpy array of features where each row is a feature and each column is one data point (state-year)<br>\n",
    "y is a 1D numpy array of responses (avg. honey per hive) to correspond with X"
   ],
   "cell_type": "markdown",
   "metadata": {}
  },
  {
   "cell_type": "code",
   "execution_count": null,
   "metadata": {},
   "outputs": [],
   "source": [
    "from sklearn.linear_model import LinearRegression\n",
    "from joblib import dump\n",
    "from joblib import load\n",
    "import numpy as np\n",
    "\n",
    "model = LinearRegression(verbose=3).fit(X,y)\n",
    "\n",
    "# save model object to a file\n",
    "dump(model, 'model.joblib')"
   ]
  },
  {
   "source": [
    "Now we use the trained model to generate some predictions. First, optionally load in the model from disk (if it wasn't just trained so it's not already in memory)"
   ],
   "cell_type": "markdown",
   "metadata": {}
  },
  {
   "source": [
    "model = load('model.joblib')"
   ],
   "cell_type": "code",
   "metadata": {},
   "execution_count": null,
   "outputs": []
  },
  {
   "source": [
    "pred_X is a 2D numpy array of feature vectors that you would like to predict - each row should correspond to one feature and each column to one data point"
   ],
   "cell_type": "markdown",
   "metadata": {}
  },
  {
   "cell_type": "code",
   "execution_count": null,
   "metadata": {},
   "outputs": [],
   "source": [
    "pred_X = numpy.array([]) # fill in with values to estimate\n",
    "\n",
    "responses = model.predict(pred_X)"
   ]
  }
 ]
}