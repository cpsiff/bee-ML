{
 "metadata": {
  "language_info": {
   "codemirror_mode": {
    "name": "ipython",
    "version": 3
   },
   "file_extension": ".py",
   "mimetype": "text/x-python",
   "name": "python",
   "nbconvert_exporter": "python",
   "pygments_lexer": "ipython3",
   "version": "3.8.5-final"
  },
  "orig_nbformat": 2,
  "kernelspec": {
   "name": "python3",
   "display_name": "Python 3"
  }
 },
 "nbformat": 4,
 "nbformat_minor": 2,
 "cells": [
  {
   "cell_type": "code",
   "execution_count": 7,
   "metadata": {},
   "outputs": [],
   "source": [
    "import pandas as pd\n",
    "import numpy as np\n",
    "import csv\n",
    "\n",
    "with open('data/completeFeatureVectors.csv') as data_file:\n",
    "    data = list(csv.reader(data_file, delimiter=','))\n",
    "    with open('data/states.csv') as lat_long_file:\n",
    "        lat_long = list(csv.reader(lat_long_file, delimiter=','))\n",
    "        data[0].append(\"latitude\")\n",
    "        data[0].append(\"longitude\")\n",
    "        for row in data[1:]:\n",
    "            row.append(lat_long[int(float(row[9]))][2])\n",
    "            row.append(lat_long[int(float(row[9]))][3])\n",
    "        with open('data/completeFeatureVectors2.csv', 'w') as f:\n",
    "            write = csv.writer(f)\n",
    "            write.writerows(data)"
   ]
  },
  {
   "cell_type": "code",
   "execution_count": null,
   "metadata": {},
   "outputs": [],
   "source": []
  }
 ]
}