{
 "metadata": {
  "language_info": {
   "codemirror_mode": {
    "name": "ipython",
    "version": 3
   },
   "file_extension": ".py",
   "mimetype": "text/x-python",
   "name": "python",
   "nbconvert_exporter": "python",
   "pygments_lexer": "ipython3",
   "version": "3.8.5-final"
  },
  "orig_nbformat": 2,
  "kernelspec": {
   "name": "python3",
   "display_name": "Python 3"
  }
 },
 "nbformat": 4,
 "nbformat_minor": 2,
 "cells": [
  {
   "source": [
    "This notebook generates regression trees from our honey production and air quality combined dataset, which is read in in the second cell<br>\n",
    "We use sklearn's implementation of regression trees, which is covered in detail in the report, as the inner-workings are not visible here<br>\n",
    "Cross validation is performed and an MSE is output near the end."
   ],
   "cell_type": "markdown",
   "metadata": {}
  },
  {
   "cell_type": "code",
   "execution_count": 1,
   "metadata": {},
   "outputs": [],
   "source": [
    "import pandas as pd\n",
    "from scipy.stats import norm\n",
    "import numpy as np\n",
    "import math\n",
    "from sklearn.model_selection import cross_validate\n",
    "from sklearn.tree import DecisionTreeRegressor"
   ]
  },
  {
   "cell_type": "code",
   "execution_count": 2,
   "metadata": {},
   "outputs": [],
   "source": [
    "data = pd.read_csv(\"data/completeFeatureVectors.csv\")\n",
    "\n",
    "X = data[['o3','co','so2','no2','pm25_frm', 'pressure', 'temperature', 'wind', 'year']].to_numpy()\n",
    "# subtract 1998 from the year so that it starts at zero\n",
    "X[:,8] = X[:,8]-1998\n",
    "\n",
    "y = data[['yield_per_col']].to_numpy()"
   ]
  },
  {
   "cell_type": "code",
   "execution_count": 3,
   "metadata": {},
   "outputs": [
    {
     "output_type": "stream",
     "name": "stdout",
     "text": [
      "259.71666666666664\n"
     ]
    }
   ],
   "source": [
    "regressor = DecisionTreeRegressor(random_state=0)\n",
    "\n",
    "k = 10\n",
    "\n",
    "# the size of the testing set for each fold\n",
    "chunk_size = X.shape[0] // k\n",
    "\n",
    "# shuffle X and y together\n",
    "Xy_shuffled = np.append(X, y, axis=1)\n",
    "np.random.shuffle(Xy_shuffled)\n",
    "\n",
    "sq_errors = []\n",
    "\n",
    "# iterate through k folds\n",
    "for i in range(k):\n",
    "\n",
    "    # split out testing and training data\n",
    "    X_k_test = Xy_shuffled[chunk_size*i:chunk_size*(i+1),:9]\n",
    "    y_k_test = Xy_shuffled[chunk_size*i:chunk_size*(i+1),9]\n",
    "\n",
    "    if i == 0:\n",
    "        X_k_train = Xy_shuffled[chunk_size:,:9]\n",
    "        y_k_train = Xy_shuffled[chunk_size:,9]\n",
    "    elif i == k-1:\n",
    "        X_k_train = Xy_shuffled[:chunk_size*i,:9]\n",
    "        y_k_train = Xy_shuffled[:chunk_size*i,9]\n",
    "    else:\n",
    "        X_k_train = np.append(Xy_shuffled[:chunk_size*i,:9], Xy_shuffled[chunk_size*(i+1):,:9], axis=0)\n",
    "        y_k_train = np.append(Xy_shuffled[:chunk_size*i,9], Xy_shuffled[chunk_size*(i+1):,9], axis=0)\n",
    "\n",
    "    # train on training data to get trained decission tree\n",
    "    regressor.fit(X_k_train, y_k_train)\n",
    "    # test out the decision tree that we found on the testing chunk\n",
    "    y_pred = regressor.predict(X_k_test)\n",
    "\n",
    "    for i in range(X_k_test.shape[0]):\n",
    "        sq_errors.append((y_pred[i] - y_k_test[i])**2)\n",
    "    \n",
    "mean_sq_error = np.mean(sq_errors)\n",
    "print(mean_sq_error)"
   ]
  },
  {
   "cell_type": "code",
   "execution_count": null,
   "metadata": {},
   "outputs": [],
   "source": []
  }
 ]
}