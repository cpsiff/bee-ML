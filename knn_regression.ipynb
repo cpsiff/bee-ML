{
 "metadata": {
  "language_info": {
   "codemirror_mode": {
    "name": "ipython",
    "version": 3
   },
   "file_extension": ".py",
   "mimetype": "text/x-python",
   "name": "python",
   "nbconvert_exporter": "python",
   "pygments_lexer": "ipython3",
   "version": "3.8.5-final"
  },
  "orig_nbformat": 2,
  "kernelspec": {
   "name": "python3",
   "display_name": "Python 3.8.5 64-bit",
   "metadata": {
    "interpreter": {
     "hash": "31f2aee4e71d21fbe5cf8b01ff0e069b9275f58929596ceb00d14d90e3e16cd6"
    }
   }
  }
 },
 "nbformat": 4,
 "nbformat_minor": 2,
 "cells": [
  {
   "source": [
    "This notebook performs knn linear regression on our honey production and air quality combined dataset, which is read in in the second cell<br>\n",
    "Nearest neighbors are found using only the geographical (latitude and longitude) features - so it is not knn in the classical sense<br>\n",
    "We use the matrix solution to minimize the MSE<br>\n",
    "Cross validation is performed and an MSE is output near the end. Everything is written from scratch with numpy"
   ],
   "cell_type": "markdown",
   "metadata": {}
  },
  {
   "cell_type": "code",
   "execution_count": 1,
   "metadata": {},
   "outputs": [],
   "source": [
    "import pandas as pd\n",
    "from scipy.stats import norm\n",
    "import numpy as np\n",
    "import math\n",
    "np.set_printoptions(suppress=True) # disable scientific notation when printing"
   ]
  },
  {
   "cell_type": "code",
   "execution_count": 2,
   "metadata": {},
   "outputs": [],
   "source": [
    "data = pd.read_csv(\"data/completeFeatureVectors2.csv\")\n",
    "\n",
    "X = data[['o3','co','so2','no2','pm25_frm', 'pressure', 'temperature', 'wind', 'year', 'latitude', 'longitude']].to_numpy()\n",
    "# subtract 1998 from the year so that it starts at zero\n",
    "X[:,8] = X[:,8]-1998\n",
    "# Append ones to the start of X for the bias term\n",
    "X = np.append(np.ones((X.shape[0],1)), X, axis=1)\n",
    "y = data[['yield_per_col']].to_numpy()"
   ]
  },
  {
   "source": [
    "The predict function makes a prediction for the query given the training data X and responses y"
   ],
   "cell_type": "markdown",
   "metadata": {}
  },
  {
   "cell_type": "code",
   "execution_count": 3,
   "metadata": {},
   "outputs": [],
   "source": [
    "def predict(query, X, y, k=50):\n",
    "    distances = []\n",
    "    for x in X:\n",
    "        distances.append(np.linalg.norm(query[10:]-x[10:])) #TODO should be [9:11]? or [10:11] b/c of bias?\n",
    "    \n",
    "    # determine the cutoff for being one of k nearest neighbors\n",
    "    # np.sort returns a copy of distances so distances isn't affected\n",
    "    cutoff = np.sort(distances)[k]\n",
    "    # find the neighbors with a distance less than the cutoff\n",
    "    X_neighbors = X[distances<cutoff][:,:10]\n",
    "    y_neighbors = y[distances<cutoff]\n",
    "\n",
    "    # find theta with matrix formula to minimize MSE\n",
    "    theta = np.matmul(np.matmul(np.linalg.inv(np.matmul(X_neighbors.T, X_neighbors)),X_neighbors.T),y_neighbors)\n",
    "\n",
    "    # return prediction found via theta\n",
    "    return np.matmul(query[:10].T, theta)"
   ]
  },
  {
   "source": [
    "Perform k-fold cross validation to find our mean squared error (MSE)"
   ],
   "cell_type": "markdown",
   "metadata": {}
  },
  {
   "cell_type": "code",
   "execution_count": 4,
   "metadata": {
    "tags": []
   },
   "outputs": [
    {
     "output_type": "stream",
     "name": "stdout",
     "text": [
      "i: 0\n",
      "predicted: 83.54396455129451 actual 124.0 se: 1636.6908042269154\n",
      "i: 1\n",
      "predicted: 52.00222060504069 actual 85.0 se: 1088.853444998401\n",
      "predicted: 109.47566870959473 actual 77.0 se: 1054.66905813535\n",
      "i: 2\n",
      "i: 3\n",
      "predicted: 49.50984184809639 actual 92.0 se: 1805.4135397737805\n",
      "i: 4\n",
      "predicted: 97.06205548021076 actual 136.0 se: 1516.163523426185\n",
      "i: 5\n",
      "predicted: 65.22877491383885 actual 98.0 se: 1073.9531936478381\n",
      "predicted: 59.6116311699281 actual 26.0 se: 1129.7417499032824\n",
      "i: 6\n",
      "i: 7\n",
      "i: 8\n",
      "predicted: 94.82833897170909 actual 131.0 se: 1308.3890615455796\n",
      "i: 9\n",
      "median sq error: 85.55832769394857\n",
      "mean sq error: 173.93412078789424\n"
     ]
    }
   ],
   "source": [
    "k = 10\n",
    "\n",
    "# the size of the testing set for each fold\n",
    "chunk_size = X.shape[0] // k\n",
    "\n",
    "# shuffle X and y together\n",
    "Xy_shuffled = np.append(X, y, axis=1)\n",
    "np.random.shuffle(Xy_shuffled)\n",
    "\n",
    "sq_errors = []\n",
    "\n",
    "# iterate through k folds\n",
    "for i in range(k):\n",
    "\n",
    "    # split out testing and training data\n",
    "    X_k_test = Xy_shuffled[chunk_size*i:chunk_size*(i+1),:12]\n",
    "    y_k_test = Xy_shuffled[chunk_size*i:chunk_size*(i+1),12]\n",
    "\n",
    "    if i == 0:\n",
    "        X_k_train = Xy_shuffled[chunk_size:,:12]\n",
    "        y_k_train = Xy_shuffled[chunk_size:,12]\n",
    "    elif i == k-1:\n",
    "        X_k_train = Xy_shuffled[:chunk_size*i,:12]\n",
    "        y_k_train = Xy_shuffled[:chunk_size*i,12]\n",
    "    else:\n",
    "        X_k_train = np.append(Xy_shuffled[:chunk_size*i,:12], Xy_shuffled[chunk_size*(i+1):,:12], axis=0)\n",
    "        y_k_train = np.append(Xy_shuffled[:chunk_size*i,12], Xy_shuffled[chunk_size*(i+1):,12], axis=0)\n",
    "\n",
    "    for j in range(X_k_test.shape[0]):\n",
    "        y_pred = predict(X_k_test[j,:], X_k_train, y_k_train, k=150)\n",
    "        if (y_pred - y_k_test[j])**2 > 1000:\n",
    "            print(\"predicted:\", y_pred, \"actual\", y_k_test[j], \"se:\", (y_pred - y_k_test[j])**2)\n",
    "        sq_errors.append((y_pred - y_k_test[j])**2)\n",
    "    \n",
    "    print(\"i:\", i)\n",
    "    \n",
    "mean_sq_error = np.mean(sq_errors)\n",
    "print(\"median sq error:\", np.median(sq_errors))\n",
    "print(\"mean sq error:\", mean_sq_error)\n",
    "\n",
    "    "
   ]
  },
  {
   "cell_type": "code",
   "execution_count": null,
   "metadata": {},
   "outputs": [],
   "source": []
  }
 ]
}