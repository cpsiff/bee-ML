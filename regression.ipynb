{
 "metadata": {
  "language_info": {
   "codemirror_mode": {
    "name": "ipython",
    "version": 3
   },
   "file_extension": ".py",
   "mimetype": "text/x-python",
   "name": "python",
   "nbconvert_exporter": "python",
   "pygments_lexer": "ipython3",
   "version": "3.8.5-final"
  },
  "orig_nbformat": 2,
  "kernelspec": {
   "name": "python3",
   "display_name": "Python 3.8.5 64-bit",
   "metadata": {
    "interpreter": {
     "hash": "31f2aee4e71d21fbe5cf8b01ff0e069b9275f58929596ceb00d14d90e3e16cd6"
    }
   }
  }
 },
 "nbformat": 4,
 "nbformat_minor": 2,
 "cells": [
  {
   "cell_type": "code",
   "execution_count": 29,
   "metadata": {},
   "outputs": [],
   "source": [
    "import pandas as pd\n",
    "from sklearn.linear_model import LinearRegression\n",
    "from sklearn.model_selection import cross_validate\n",
    "import numpy as np"
   ]
  },
  {
   "source": [
    "Read in [Honey Production Dataset](https://www.kaggle.com/jessicali9530/honey-production) from honeyproduction.csv"
   ],
   "cell_type": "markdown",
   "metadata": {}
  },
  {
   "cell_type": "code",
   "execution_count": 30,
   "metadata": {},
   "outputs": [],
   "source": [
    "data = pd.read_csv(\"data/completeFeatureVectors.csv\")\n",
    "\n",
    "X = data[['o3','co','so2','no2','pm25_frm', 'pressure', 'temperature', 'wind']]\n",
    "y = data[['yield_per_col']]"
   ]
  },
  {
   "source": [
    "Use sklearn to run a simple regression model. A bias (intercept) term is included by default.<br>\n",
    "X is a 2D numpy array of features where each row is a feature and each column is one data point (state-year)<br>\n",
    "y is a 1D numpy array of responses (avg. honey per hive) to correspond with X"
   ],
   "cell_type": "markdown",
   "metadata": {}
  },
  {
   "cell_type": "code",
   "execution_count": 31,
   "metadata": {},
   "outputs": [],
   "source": [
    "model = LinearRegression(fit_intercept=True, normalize=False).fit(X,y)"
   ]
  },
  {
   "source": [
    "We can view the coeffecients (theta) of the regression model"
   ],
   "cell_type": "markdown",
   "metadata": {}
  },
  {
   "cell_type": "code",
   "execution_count": 32,
   "metadata": {},
   "outputs": [
    {
     "output_type": "stream",
     "name": "stdout",
     "text": [
      "coeffecients: [-667.63354919   -1.01219757    1.03048173    0.22584951    0.51571186\n    0.00017601    0.17798002   -0.4829096 ]\nintercept: [106.11977705]\n"
     ]
    }
   ],
   "source": [
    "np.set_printoptions(suppress=True) # don't use scientific notation\n",
    "print(\"coeffecients:\", model.coef_[0])\n",
    "print(\"intercept:\", model.intercept_)"
   ]
  },
  {
   "cell_type": "code",
   "execution_count": null,
   "metadata": {},
   "outputs": [],
   "source": []
  },
  {
   "source": [
    "pred_X is a 2D numpy array of feature vectors that you would like to predict - each row should correspond to one feature and each column to one data point"
   ],
   "cell_type": "markdown",
   "metadata": {}
  },
  {
   "cell_type": "code",
   "execution_count": 33,
   "metadata": {},
   "outputs": [
    {
     "output_type": "execute_result",
     "data": {
      "text/plain": [
       "{'fit_time': array([0.00379848, 0.00318146, 0.00316787, 0.00372982, 0.00304818]),\n",
       " 'score_time': array([0.00281119, 0.00240016, 0.00291133, 0.00251865, 0.0023303 ]),\n",
       " 'test_score': array([ 0.05889977,  0.37264314,  0.48616967,  0.12382557, -0.04680514])}"
      ]
     },
     "metadata": {},
     "execution_count": 33
    }
   ],
   "source": [
    "cross_validate(model, X, y=y)"
   ]
  },
  {
   "cell_type": "code",
   "execution_count": 34,
   "metadata": {},
   "outputs": [
    {
     "output_type": "stream",
     "name": "stdout",
     "text": [
      "Prediction: 75.77947585023898\n"
     ]
    }
   ],
   "source": [
    "pred_X = np.array([[0.03129950986858222,0.7598816665287286,1.575724781898525,14.757244350874076,43.9,984.228484566674,59.17666285590283,97.27797941652527]]) # fill in with values to estimate\n",
    "\n",
    "print(\"Prediction:\", model.predict(pred_X)[0][0])"
   ]
  },
  {
   "cell_type": "code",
   "execution_count": null,
   "metadata": {},
   "outputs": [],
   "source": []
  }
 ]
}