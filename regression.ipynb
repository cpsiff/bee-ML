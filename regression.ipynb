{
 "metadata": {
  "language_info": {
   "codemirror_mode": {
    "name": "ipython",
    "version": 3
   },
   "file_extension": ".py",
   "mimetype": "text/x-python",
   "name": "python",
   "nbconvert_exporter": "python",
   "pygments_lexer": "ipython3",
   "version": "3.8.5-final"
  },
  "orig_nbformat": 2,
  "kernelspec": {
   "name": "python3",
   "display_name": "Python 3.8.5 64-bit",
   "metadata": {
    "interpreter": {
     "hash": "31f2aee4e71d21fbe5cf8b01ff0e069b9275f58929596ceb00d14d90e3e16cd6"
    }
   }
  }
 },
 "nbformat": 4,
 "nbformat_minor": 2,
 "cells": [
  {
   "cell_type": "code",
   "execution_count": 1,
   "metadata": {},
   "outputs": [],
   "source": [
    "import pandas as pd\n",
    "from sklearn.linear_model import LinearRegression\n",
    "from sklearn.model_selection import cross_validate\n",
    "from scipy.stats import norm\n",
    "import numpy as np\n",
    "import math"
   ]
  },
  {
   "cell_type": "code",
   "execution_count": 2,
   "metadata": {},
   "outputs": [],
   "source": [
    "data = pd.read_csv(\"data/completeFeatureVectors.csv\")\n",
    "\n",
    "X = data[['o3','co','so2','no2','pm25_frm', 'pressure', 'temperature', 'wind']].to_numpy()\n",
    "y = data[['yield_per_col']].to_numpy()"
   ]
  },
  {
   "source": [
    "Use sklearn to run a simple regression model. A bias (intercept) term is included by default.<br>\n",
    "X is a 2D numpy array of features where each column is a feature and each row is one data point (state-year)<br>\n",
    "y is a numpy column array of responses (avg. honey per hive) to correspond with X"
   ],
   "cell_type": "markdown",
   "metadata": {}
  },
  {
   "cell_type": "code",
   "execution_count": 3,
   "metadata": {},
   "outputs": [],
   "source": [
    "model = LinearRegression(fit_intercept=True, normalize=False).fit(X,y)"
   ]
  },
  {
   "source": [
    "We can view the coeffecients (theta) of the regression model"
   ],
   "cell_type": "markdown",
   "metadata": {}
  },
  {
   "cell_type": "code",
   "execution_count": 4,
   "metadata": {},
   "outputs": [
    {
     "output_type": "stream",
     "name": "stdout",
     "text": [
      "coeffecients: [-667.47195265   -1.05147514    1.03059897    0.22588529    0.51598921\n   -0.00016845    0.17898027   -0.48249963]\nintercept: [106.36707261]\n"
     ]
    }
   ],
   "source": [
    "np.set_printoptions(suppress=True) # don't use scientific notation\n",
    "print(\"coeffecients:\", model.coef_[0])\n",
    "print(\"intercept:\", model.intercept_)"
   ]
  },
  {
   "source": [
    "We can perform 5-fold cross validation liks so - you can ignore the fit times and score times. Test score and train score tell us how well the model performed on testing and training on each fold of the cross-validation"
   ],
   "cell_type": "markdown",
   "metadata": {}
  },
  {
   "cell_type": "code",
   "execution_count": 5,
   "metadata": {},
   "outputs": [
    {
     "output_type": "execute_result",
     "data": {
      "text/plain": [
       "{'fit_time': array([0.00086451, 0.00092244, 0.00052714, 0.00045156, 0.00043964]),\n",
       " 'score_time': array([0.00060511, 0.0004673 , 0.00040245, 0.00026941, 0.00026608]),\n",
       " 'test_score': array([ 0.19562148,  0.37253433,  0.48585462,  0.1235356 , -0.09997231]),\n",
       " 'train_score': array([0.3745242 , 0.36156911, 0.35909169, 0.42102716, 0.42431873])}"
      ]
     },
     "metadata": {},
     "execution_count": 5
    }
   ],
   "source": [
    "cross_validate(model, X, y=y, return_train_score=True, cv=5)"
   ]
  },
  {
   "source": [
    "pred_X is a 2D numpy array of feature vectors that you would like to predict - each row should correspond to one feature and each column to one data point"
   ],
   "cell_type": "markdown",
   "metadata": {}
  },
  {
   "cell_type": "code",
   "execution_count": 6,
   "metadata": {},
   "outputs": [
    {
     "output_type": "stream",
     "name": "stdout",
     "text": [
      "Prediction: 75.84415972663882\n"
     ]
    }
   ],
   "source": [
    "pred_X = np.array([[0.0312,0.759,1.575,14.757,43.9,984.,59.17,97.27]]) # fill in with values to estimate\n",
    "\n",
    "prediction = model.predict(pred_X)[0][0]\n",
    "print(\"Prediction:\", prediction)"
   ]
  },
  {
   "source": [
    "Sklearn does not include a way to find a confidence interval, so we can do it manually using the value of theta determined by sklearn and by calculating our own value of sigma"
   ],
   "cell_type": "markdown",
   "metadata": {}
  },
  {
   "cell_type": "code",
   "execution_count": 7,
   "metadata": {},
   "outputs": [
    {
     "output_type": "error",
     "ename": "NameError",
     "evalue": "name 'predicted' is not defined",
     "traceback": [
      "\u001b[0;31m---------------------------------------------------------------------------\u001b[0m",
      "\u001b[0;31mNameError\u001b[0m                                 Traceback (most recent call last)",
      "\u001b[0;32m<ipython-input-7-4b5878c15d4a>\u001b[0m in \u001b[0;36m<module>\u001b[0;34m\u001b[0m\n\u001b[1;32m      5\u001b[0m \u001b[0mppf\u001b[0m \u001b[0;34m=\u001b[0m \u001b[0mnorm\u001b[0m\u001b[0;34m.\u001b[0m\u001b[0mppf\u001b[0m\u001b[0;34m(\u001b[0m\u001b[0;36m0.975\u001b[0m\u001b[0;34m,\u001b[0m \u001b[0mloc\u001b[0m\u001b[0;34m=\u001b[0m\u001b[0;36m0\u001b[0m\u001b[0;34m,\u001b[0m \u001b[0mscale\u001b[0m\u001b[0;34m=\u001b[0m\u001b[0;36m1\u001b[0m\u001b[0;34m)\u001b[0m\u001b[0;34m\u001b[0m\u001b[0;34m\u001b[0m\u001b[0m\n\u001b[1;32m      6\u001b[0m \u001b[0mrange\u001b[0m \u001b[0;34m=\u001b[0m \u001b[0mppf\u001b[0m\u001b[0;34m*\u001b[0m\u001b[0msigma\u001b[0m\u001b[0;34m\u001b[0m\u001b[0;34m\u001b[0m\u001b[0m\n\u001b[0;32m----> 7\u001b[0;31m \u001b[0mprint\u001b[0m\u001b[0;34m(\u001b[0m\u001b[0;34m\"95% conf. Lower bound:\"\u001b[0m\u001b[0;34m,\u001b[0m \u001b[0mpredicted\u001b[0m\u001b[0;34m-\u001b[0m\u001b[0mrange\u001b[0m\u001b[0;34m)\u001b[0m\u001b[0;34m\u001b[0m\u001b[0;34m\u001b[0m\u001b[0m\n\u001b[0m\u001b[1;32m      8\u001b[0m \u001b[0mprint\u001b[0m\u001b[0;34m(\u001b[0m\u001b[0;34m\"95% conf. Upper bound:\"\u001b[0m\u001b[0;34m,\u001b[0m \u001b[0mpredicted\u001b[0m\u001b[0;34m+\u001b[0m\u001b[0mrange\u001b[0m\u001b[0;34m)\u001b[0m\u001b[0;34m\u001b[0m\u001b[0;34m\u001b[0m\u001b[0m\n",
      "\u001b[0;31mNameError\u001b[0m: name 'predicted' is not defined"
     ]
    }
   ],
   "source": [
    "theta = np.append(model.intercept_[0], model.coef_[0])[...,None]\n",
    "new_X = np.append(np.ones((X.shape[0],1)), X, axis=1)\n",
    "sigma_sq = (np.matmul((y-np.matmul(new_X, theta)).T,(y-np.matmul(new_X, theta))) / X.shape[0])[0][0]\n",
    "sigma = math.sqrt(sigma_sq)\n",
    "ppf = norm.ppf(0.975, loc=0, scale=1)\n",
    "range = ppf*sigma\n",
    "print(\"95% conf. Lower bound:\", prediction-range)\n",
    "print(\"95% conf. Upper bound:\", prediction+range)"
   ]
  },
  {
   "cell_type": "code",
   "execution_count": null,
   "metadata": {},
   "outputs": [],
   "source": []
  }
 ]
}