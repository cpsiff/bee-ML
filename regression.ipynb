{
 "metadata": {
  "language_info": {
   "codemirror_mode": {
    "name": "ipython",
    "version": 3
   },
   "file_extension": ".py",
   "mimetype": "text/x-python",
   "name": "python",
   "nbconvert_exporter": "python",
   "pygments_lexer": "ipython3",
   "version": "3.8.5-final"
  },
  "orig_nbformat": 2,
  "kernelspec": {
   "name": "python3",
   "display_name": "Python 3.8.5 64-bit",
   "metadata": {
    "interpreter": {
     "hash": "31f2aee4e71d21fbe5cf8b01ff0e069b9275f58929596ceb00d14d90e3e16cd6"
    }
   }
  }
 },
 "nbformat": 4,
 "nbformat_minor": 2,
 "cells": [
  {
   "cell_type": "code",
   "execution_count": 35,
   "metadata": {},
   "outputs": [],
   "source": [
    "import pandas as pd\n",
    "from sklearn.linear_model import LinearRegression\n",
    "from sklearn.model_selection import cross_validate\n",
    "import numpy as np"
   ]
  },
  {
   "source": [
    "Read in [Honey Production Dataset](https://www.kaggle.com/jessicali9530/honey-production) from honeyproduction.csv"
   ],
   "cell_type": "markdown",
   "metadata": {}
  },
  {
   "cell_type": "code",
   "execution_count": 36,
   "metadata": {},
   "outputs": [],
   "source": [
    "data = pd.read_csv(\"data/completeFeatureVectors.csv\")\n",
    "\n",
    "X = data[['o3','co','so2','no2','pm25_frm', 'pressure', 'temperature', 'wind']]\n",
    "y = data[['yield_per_col']]"
   ]
  },
  {
   "source": [
    "Use sklearn to run a simple regression model. A bias (intercept) term is included by default.<br>\n",
    "X is a 2D numpy array of features where each row is a feature and each column is one data point (state-year)<br>\n",
    "y is a 1D numpy array of responses (avg. honey per hive) to correspond with X"
   ],
   "cell_type": "markdown",
   "metadata": {}
  },
  {
   "cell_type": "code",
   "execution_count": 37,
   "metadata": {},
   "outputs": [],
   "source": [
    "model = LinearRegression(fit_intercept=True, normalize=False).fit(X,y)"
   ]
  },
  {
   "source": [
    "We can view the coeffecients (theta) of the regression model"
   ],
   "cell_type": "markdown",
   "metadata": {}
  },
  {
   "cell_type": "code",
   "execution_count": 38,
   "metadata": {},
   "outputs": [
    {
     "output_type": "stream",
     "name": "stdout",
     "text": [
      "coeffecients: [-667.47195265   -1.05147514    1.03059897    0.22588529    0.51598921\n   -0.00016845    0.17898027   -0.48249963]\nintercept: [106.36707261]\n"
     ]
    }
   ],
   "source": [
    "np.set_printoptions(suppress=True) # don't use scientific notation\n",
    "print(\"coeffecients:\", model.coef_[0])\n",
    "print(\"intercept:\", model.intercept_)"
   ]
  },
  {
   "source": [
    "We can perform 5-fold cross validation liks so - you can ignore the fit times and score times. Test score and train score tell us how well the model performed on testing and training on each fold of the cross-validation"
   ],
   "cell_type": "markdown",
   "metadata": {}
  },
  {
   "cell_type": "code",
   "execution_count": 43,
   "metadata": {},
   "outputs": [
    {
     "output_type": "execute_result",
     "data": {
      "text/plain": [
       "{'fit_time': array([0.00597239, 0.00397205, 0.00400186, 0.00370598, 0.00333333,\n",
       "        0.00295782]),\n",
       " 'score_time': array([0.10589933, 0.00304127, 0.0031333 , 0.00262594, 0.00248551,\n",
       "        0.0022552 ]),\n",
       " 'test_score': array([ 0.18718129,  0.33254665,  0.48945512,  0.38975445,  0.0446529 ,\n",
       "        -0.01562993]),\n",
       " 'train_score': array([0.38877396, 0.37130577, 0.35411253, 0.37536527, 0.42751298,\n",
       "        0.4014855 ])}"
      ]
     },
     "metadata": {},
     "execution_count": 43
    }
   ],
   "source": [
    "cross_validate(model, X, y=y, return_train_score=True, cv=5)"
   ]
  },
  {
   "source": [
    "pred_X is a 2D numpy array of feature vectors that you would like to predict - each row should correspond to one feature and each column to one data point"
   ],
   "cell_type": "markdown",
   "metadata": {}
  },
  {
   "cell_type": "code",
   "execution_count": 40,
   "metadata": {},
   "outputs": [
    {
     "output_type": "stream",
     "name": "stdout",
     "text": [
      "Prediction: 75.77491875160138\n"
     ]
    }
   ],
   "source": [
    "pred_X = np.array([[0.03129950986858222,0.7598816665287286,1.575724781898525,14.757244350874076,43.9,984.228484566674,59.17666285590283,97.27797941652527]]) # fill in with values to estimate\n",
    "\n",
    "print(\"Prediction:\", model.predict(pred_X)[0][0])"
   ]
  },
  {
   "cell_type": "code",
   "execution_count": null,
   "metadata": {},
   "outputs": [],
   "source": []
  }
 ]
}